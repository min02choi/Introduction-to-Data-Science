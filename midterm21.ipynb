{
 "cells": [
  {
   "cell_type": "code",
   "execution_count": 1,
   "metadata": {},
   "outputs": [
    {
     "name": "stdout",
     "output_type": "stream",
     "text": [
      "(3, 4)\n",
      "applebanana\n"
     ]
    }
   ],
   "source": [
    "print((3,)+(4,))\n",
    "print((\"apple\")+(\"banana\"))"
   ]
  },
  {
   "cell_type": "code",
   "execution_count": 3,
   "metadata": {},
   "outputs": [
    {
     "name": "stdout",
     "output_type": "stream",
     "text": [
      "[28, 31, 33, 35, 27, 26, 25]\n"
     ]
    }
   ],
   "source": [
    "temps = [28, 31, 33, 35, 27, 26, 25]\n",
    "values = list(temps)\n",
    "values[3] = 39 # values 리스트 변경\n",
    "print(temps)"
   ]
  },
  {
   "cell_type": "code",
   "execution_count": 4,
   "metadata": {},
   "outputs": [
    {
     "name": "stdout",
     "output_type": "stream",
     "text": [
      "[99, 2, 99, 4, 99, 6, 99, 8]\n",
      "[]\n"
     ]
    }
   ],
   "source": [
    "lst = [1, 2, 3, 4, 5, 6, 7, 8]\n",
    "lst[::2] = [99, 99, 99, 99]\n",
    "print(lst)\n",
    "lst = [1, 2, 3, 4, 5, 6, 7, 8]\n",
    "lst[:] = [ ]\n",
    "print(lst)"
   ]
  },
  {
   "cell_type": "code",
   "execution_count": 5,
   "metadata": {},
   "outputs": [
    {
     "name": "stdout",
     "output_type": "stream",
     "text": [
      "s = [[0, 0, 0, 0, 0], [0, 0, 0, 0, 0], [0, 0, 0, 0, 0]]\n"
     ]
    }
   ],
   "source": [
    "rows = 3\n",
    "cols = 5\n",
    "s=[]\n",
    "for row in range(rows):\n",
    "    s += [[0]*cols]\n",
    "print(\"s =\", s)\n",
    "# 2차원 리스트 합침"
   ]
  },
  {
   "cell_type": "code",
   "execution_count": 6,
   "metadata": {},
   "outputs": [
    {
     "name": "stdout",
     "output_type": "stream",
     "text": [
      "{3, 4, 5}\n",
      "{1, 2}\n"
     ]
    }
   ],
   "source": [
    "list1 = [1, 2, 3, 4, 5]\n",
    "list2 = [3, 4, 5, 6, 7]\n",
    "print(set(list1) & set(list2))\n",
    "print(set(list1) - set(list2))"
   ]
  },
  {
   "cell_type": "code",
   "execution_count": 7,
   "metadata": {},
   "outputs": [
    {
     "name": "stdout",
     "output_type": "stream",
     "text": [
      "{1: '1', 2: '2', 3: '3', 4: '4', 5: '5'}\n"
     ]
    }
   ],
   "source": [
    "dic = {i:str(i)for i in [1, 2, 3, 4, 5]}\n",
    "print(dic)"
   ]
  },
  {
   "cell_type": "code",
   "execution_count": 8,
   "metadata": {},
   "outputs": [
    {
     "name": "stdout",
     "output_type": "stream",
     "text": [
      "[84.         91.         79.66666667 80.33333333]\n"
     ]
    }
   ],
   "source": [
    "import numpy as np\n",
    "scores = np.array([[99, 93, 60], [98, 82, 93],\n",
    "                   [93, 65, 81], [78, 82, 81]])\n",
    "print(scores.mean(axis=1))"
   ]
  },
  {
   "cell_type": "code",
   "execution_count": 10,
   "metadata": {},
   "outputs": [
    {
     "name": "stdout",
     "output_type": "stream",
     "text": [
      "[[ 1  2  3  4]\n",
      " [ 9 10 11 12]]\n",
      "[[1 2 3 4]]\n",
      "[[ 1  3]\n",
      " [ 9 11]]\n"
     ]
    }
   ],
   "source": [
    "np_array = np.array([[ 1, 2, 3, 4], [5, 6, 7, 8], [ 9, 10, 11, 12],\n",
    "[13, 14, 15, 16]])\n",
    "\n",
    "print(np_array[::2])\n",
    "print(np_array[::2][::2]) # Nested 인덱싱, 슬라이싱, 첫 슬라이싱: 0행, 2행 선택, 두 번째 슬라이싱: 그 중 0행 선택\n",
    "print(np_array[::2, ::2]) # 행 슬라이싱: 0행, 2행 선택, 열 슬라이싱: 0열 2열 선택"
   ]
  },
  {
   "cell_type": "code",
   "execution_count": 11,
   "metadata": {},
   "outputs": [
    {
     "name": "stdout",
     "output_type": "stream",
     "text": [
      "신장 평균값: 176.89290763454596\n",
      "신장 중앙값: 177.72480920357918\n",
      "체중 평균값: 70.85500213376173\n",
      "체중 중앙값: 70.62909515547344\n",
      "나이 평균값: 22.55\n",
      "나이 중앙값: 23.0\n"
     ]
    }
   ],
   "source": [
    "import numpy as np\n",
    "\n",
    "players = np.zeros((100, 3))\n",
    "#print(players)\n",
    "players[:, 0] = 10 * np.random.randn(100) + 175\n",
    "players[:, 1] = 10 * np.random.randn(100) + 70\n",
    "players[:, 2] = np.floor(10 * np.random.randn(100)) + 22 # 나이는 정수로 #players[:, 2] = 10 * np.random.randn(100) + 22\n",
    "#print(players)\n",
    "\n",
    "heights = players[:, 0]\n",
    "print('신장 평균값:', np.mean(heights))\n",
    "print('신장 중앙값:', np.median(heights))\n",
    "\n",
    "weights = players[:, 1]\n",
    "print('체중 평균값:', np.mean(weights))\n",
    "print('체중 중앙값:', np.median(weights))\n",
    "ages = players[:, 2]\n",
    "print('나이 평균값:', np.mean(ages))\n",
    "print('나이 중앙값:', np.median(ages))"
   ]
  },
  {
   "cell_type": "code",
   "execution_count": 13,
   "metadata": {},
   "outputs": [
    {
     "name": "stdout",
     "output_type": "stream",
     "text": [
      "(12,)\n",
      "[[ 0  1]\n",
      " [ 2  3]\n",
      " [ 4  5]\n",
      " [ 6  7]\n",
      " [ 8  9]\n",
      " [10 11]]\n",
      "[ 0  1  2  3  4  5  6  7  8  9 10 11]\n"
     ]
    }
   ],
   "source": [
    "import numpy as np\n",
    "\n",
    "y = np.arange(12)\n",
    "print(y.shape)\n",
    "print(y.reshape(6, -1))\n",
    "print(y.flatten())"
   ]
  }
 ],
 "metadata": {
  "kernelspec": {
   "display_name": "data_science",
   "language": "python",
   "name": "python3"
  },
  "language_info": {
   "codemirror_mode": {
    "name": "ipython",
    "version": 3
   },
   "file_extension": ".py",
   "mimetype": "text/x-python",
   "name": "python",
   "nbconvert_exporter": "python",
   "pygments_lexer": "ipython3",
   "version": "3.6.13 |Anaconda, Inc.| (default, Feb 23 2021, 12:58:59) \n[GCC Clang 10.0.0 ]"
  },
  "orig_nbformat": 4,
  "vscode": {
   "interpreter": {
    "hash": "5427cd94faf70f6d21c286a5d1b5ad0aff4ed29a8f202d3a70dde3aa331f5a31"
   }
  }
 },
 "nbformat": 4,
 "nbformat_minor": 2
}
